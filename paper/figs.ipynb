{
 "cells": [
  {
   "cell_type": "code",
   "execution_count": null,
   "id": "0945b2cb",
   "metadata": {},
   "outputs": [],
   "source": [
    "from NNDE import MultivariateNormalDistribution, MixedDistribution, lineplot\n",
    "import numpy as np\n",
    "###### plot in the paper \n",
    "\n",
    "# generate samples\n",
    "dim=1\n",
    "np.random.seed(666)\n",
    "density1 = MultivariateNormalDistribution(mean = np.zeros(dim)+1.5, cov = np.diag(np.ones(dim)*0.4)) \n",
    "density2 = MultivariateNormalDistribution(mean = np.zeros(dim)-1.5, cov = np.diag(np.ones(dim)*0.7)) \n",
    "density_seq = [density1, density2]\n",
    "prob_seq = [0.4, 0.6]\n",
    "densitymix = MixedDistribution(density_seq, prob_seq)\n",
    "X_train, pdf_X_train =densitymix.generate(2000)\n",
    "\n",
    "\n",
    "kargs_seq= [{\"k\":110},{\"k\":100},{\"k\":100} ]\n",
    "model_plot=lineplot(X_train,method_seq=[\"KNN\", \"WKNN\", \"TKNN\"],true_density_obj=densitymix,kargs_seq=kargs_seq)\n",
    "fig=model_plot.plot()\n",
    "fig.savefig(\"./example_1.png\",bbox_inches=\"tight\",dpi=600)\n",
    "\n",
    "kargs_seq= [{\"C\":0.5},{\"C\":1},{\"C\":0.5} ]\n",
    "model_plot=lineplot(X_train,method_seq=[\"AKNN\", \"BKNN\", \"AWNN\"],true_density_obj=densitymix,kargs_seq=kargs_seq)\n",
    "fig=model_plot.plot()\n",
    "fig.savefig(\"./example_2.png\",bbox_inches=\"tight\",dpi=600)\n",
    "\n"
   ]
  }
 ],
 "metadata": {
  "kernelspec": {
   "display_name": "Python 3 (ipykernel)",
   "language": "python",
   "name": "python3"
  },
  "language_info": {
   "codemirror_mode": {
    "name": "ipython",
    "version": 3
   },
   "file_extension": ".py",
   "mimetype": "text/x-python",
   "name": "python",
   "nbconvert_exporter": "python",
   "pygments_lexer": "ipython3",
   "version": "3.8.2"
  }
 },
 "nbformat": 4,
 "nbformat_minor": 5
}
