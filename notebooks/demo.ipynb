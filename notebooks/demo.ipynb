{
 "cells": [
  {
   "cell_type": "code",
   "execution_count": 2,
   "metadata": {},
   "outputs": [],
   "source": [
    "from IPython.core.interactiveshell import InteractiveShell\n",
    "InteractiveShell.ast_node_interactivity = \"all\"\n",
    "from matplotlib import patches\n",
    "import matplotlib.pyplot as plt\n",
    "import seaborn as sns\n",
    "import pandas as pd\n",
    "from KNN import KNN\n",
    "from AKDE import AKDE\n",
    "import numpy as np"
   ]
  },
  {
   "cell_type": "markdown",
   "metadata": {},
   "source": [
    "# demo"
   ]
  },
  {
   "cell_type": "markdown",
   "metadata": {},
   "source": [
    "# Basic Usage"
   ]
  },
  {
   "cell_type": "code",
   "execution_count": 2,
   "metadata": {},
   "outputs": [],
   "source": [
    "from scipy.stats import multivariate_normal\n",
    "\n"
   ]
  },
  {
   "cell_type": "code",
   "execution_count": 3,
   "metadata": {},
   "outputs": [],
   "source": [
    "# settings\n",
    "dim=1  #dimension of data\n",
    "n_train=1000\n",
    "n_test=1000\n",
    "np.random.seed(3)\n",
    "\n",
    "df1 = pd.DataFrame(columns=[\"x\",\"f(x)\",\"knn\",\"wknn\",\"k\"])\n",
    "\n",
    "df2 = pd.DataFrame(columns=[\"x\",\"f(x)\",\"knn\",\"wknn\",\"k\"])"
   ]
  },
  {
   "cell_type": "markdown",
   "metadata": {},
   "source": [
    "Generate some random data, following multivariatenormal distribution"
   ]
  },
  {
   "cell_type": "code",
   "execution_count": 4,
   "metadata": {},
   "outputs": [],
   "source": [
    "#define the means and covs of MultiVariateNormal distribution\n",
    "means=[np.zeros(dim)+1.5,np.zeros(dim)-1.5]\n",
    "covs=[np.diag(np.ones(dim)*0.05),np.diag(np.ones(dim)*0.3)]\n",
    "\n",
    "prob_seq = [0.4,0.6]\n",
    "num_mix=2\n",
    "\n",
    "#sampling\n",
    "rd_idx=np.random.choice(num_mix,size=n_train,replace=True,p=prob_seq)\n",
    "sample_X=[]\n",
    "\n",
    "\n",
    "for i in range(num_mix):\n",
    "    num_i=np.sum(rd_idx==i)\n",
    "    sample_Xi=multivariate_normal.rvs(mean=means[i],cov=covs[i],size=n_train).reshape(-1,dim)\n",
    "    sample_X.append(sample_Xi)\n",
    "\n",
    "X_train=np.concatenate(sample_X,axis=0)\n",
    "np.random.shuffle(X_train)\n",
    "\n",
    "#caculate the density at given vector of point\n",
    "\n",
    "num_sample=X_train.shape[0]\n",
    "pdf_X_train=np.zeros(num_sample, dtype=np.float64) \n",
    "for i in range(num_mix):\n",
    "    prob=prob_seq[i]\n",
    "    density_i=multivariate_normal.pdf(X_train, mean=means[i], cov=covs[i])\n",
    "    pdf_X_train+=prob*density_i\n",
    "\n",
    "#generate test data\n",
    "range_l,range_u=-3.5,3\n",
    "X_test=np.arange(range_l,range_u,0.01).reshape(-1,1)\n",
    "num_samples=X_test.shape[0]\n",
    "pdf_X_test=np.zeros(num_samples,dtype=np.float64)\n",
    "for i in range(num_mix):\n",
    "    prob=prob_seq[i]\n",
    "    density_i=multivariate_normal.pdf(X_test, mean=means[i], cov=covs[i])\n",
    "    pdf_X_test+=prob*density_i"
   ]
  },
  {
   "cell_type": "code",
   "execution_count": 5,
   "metadata": {},
   "outputs": [],
   "source": [
    "#first k\n",
    "#fit model\n",
    "k1=50\n",
    "modelKNN=KNN(k=k1)\n",
    "_=modelKNN.fit(X_train,method=\"KNN\")\n",
    "pdf_KNN=np.exp(modelKNN.predict(X_test))\n",
    "\n",
    "modelWKNN=KNN(k=k1)\n",
    "_=modelWKNN.fit(X_train,method=\"WKNN\")\n",
    "pdf_WKNN=np.exp(modelWKNN.predict(X_test))\n",
    "# change frame\n",
    "df1[\"x\"]=X_test.ravel()\n",
    "df1[\"f(x)\"]=pdf_X_test\n",
    "df1[\"knn\"]=pdf_KNN\n",
    "df1[\"wknn\"]=pdf_WKNN\n",
    "df1[\"k\"]=k1\n",
    "\n",
    "## second k\n",
    "# fit model \n",
    "k2=200\n",
    "modelKNN=KNN(k=k2)\n",
    "_=modelKNN.fit(X_train,method=\"KNN\")\n",
    "pdf_KNN=np.exp(modelKNN.predict(X_test))\n",
    "\n",
    "modelWKNN=KNN(k=k2)\n",
    "_=modelWKNN.fit(X_train,method=\"WKNN\")\n",
    "pdf_WKNN=np.exp(modelWKNN.predict(X_test))\n",
    "# change frame\n",
    "df2[\"x\"]=X_test.ravel()\n",
    "df2[\"f(x)\"]=pdf_X_test\n",
    "df2[\"knn\"]=pdf_KNN\n",
    "df2[\"wknn\"]=pdf_WKNN\n",
    "df2[\"k\"]=k2"
   ]
  },
  {
   "cell_type": "markdown",
   "metadata": {},
   "source": [
    "# Plotting Smooth Distributions"
   ]
  },
  {
   "cell_type": "code",
   "execution_count": 6,
   "metadata": {},
   "outputs": [
    {
     "data": {
      "text/plain": [
       "<matplotlib.patches.Rectangle at 0x12505ff8be0>"
      ]
     },
     "execution_count": 6,
     "metadata": {},
     "output_type": "execute_result"
    },
    {
     "data": {
      "text/plain": [
       "<matplotlib.patches.Rectangle at 0x12505ff8130>"
      ]
     },
     "execution_count": 6,
     "metadata": {},
     "output_type": "execute_result"
    },
    {
     "data": {
      "text/plain": [
       "<matplotlib.patches.Rectangle at 0x12505ff8c70>"
      ]
     },
     "execution_count": 6,
     "metadata": {},
     "output_type": "execute_result"
    },
    {
     "data": {
      "text/plain": [
       "<matplotlib.patches.Rectangle at 0x1250602a190>"
      ]
     },
     "execution_count": 6,
     "metadata": {},
     "output_type": "execute_result"
    },
    {
     "data": {
      "text/plain": [
       "<matplotlib.patches.Rectangle at 0x1250602a0a0>"
      ]
     },
     "execution_count": 6,
     "metadata": {},
     "output_type": "execute_result"
    },
    {
     "data": {
      "text/plain": [
       "<matplotlib.patches.Rectangle at 0x1250602a730>"
      ]
     },
     "execution_count": 6,
     "metadata": {},
     "output_type": "execute_result"
    },
    {
     "data": {
      "text/plain": [
       "<matplotlib.patches.Rectangle at 0x1250602a9a0>"
      ]
     },
     "execution_count": 6,
     "metadata": {},
     "output_type": "execute_result"
    },
    {
     "data": {
      "text/plain": [
       "<matplotlib.patches.Rectangle at 0x1250602acd0>"
      ]
     },
     "execution_count": 6,
     "metadata": {},
     "output_type": "execute_result"
    },
    {
     "data": {
      "text/plain": [
       "<matplotlib.patches.Rectangle at 0x1250602aac0>"
      ]
     },
     "execution_count": 6,
     "metadata": {},
     "output_type": "execute_result"
    },
    {
     "data": {
      "text/plain": [
       "<matplotlib.patches.Rectangle at 0x125060161f0>"
      ]
     },
     "execution_count": 6,
     "metadata": {},
     "output_type": "execute_result"
    },
    {
     "data": {
      "text/plain": [
       "(-3.5, 3.0)"
      ]
     },
     "execution_count": 6,
     "metadata": {},
     "output_type": "execute_result"
    },
    {
     "data": {
      "text/plain": [
       "(-3.5, 3.0)"
      ]
     },
     "execution_count": 6,
     "metadata": {},
     "output_type": "execute_result"
    },
    {
     "data": {
      "text/plain": [
       "(-0.04999999983717682, 0.9634272031405825)"
      ]
     },
     "execution_count": 6,
     "metadata": {},
     "output_type": "execute_result"
    },
    {
     "data": {
      "text/plain": [
       "(-0.04999999983717682, 0.9634272031405825)"
      ]
     },
     "execution_count": 6,
     "metadata": {},
     "output_type": "execute_result"
    },
    {
     "data": {
      "text/plain": [
       "Text(0.5, 0, 'x')"
      ]
     },
     "execution_count": 6,
     "metadata": {},
     "output_type": "execute_result"
    },
    {
     "data": {
      "text/plain": [
       "Text(0.5, 0, 'x')"
      ]
     },
     "execution_count": 6,
     "metadata": {},
     "output_type": "execute_result"
    },
    {
     "data": {
      "text/plain": [
       "Text(0, 0.5, 'Density')"
      ]
     },
     "execution_count": 6,
     "metadata": {},
     "output_type": "execute_result"
    },
    {
     "data": {
      "text/plain": [
       "Text(0, 0.5, 'Density')"
      ]
     },
     "execution_count": 6,
     "metadata": {},
     "output_type": "execute_result"
    },
    {
     "data": {
      "text/plain": [
       "<matplotlib.legend.Legend at 0x12506025f70>"
      ]
     },
     "execution_count": 6,
     "metadata": {},
     "output_type": "execute_result"
    },
    {
     "data": {
      "text/plain": [
       "<matplotlib.legend.Legend at 0x1250603a070>"
      ]
     },
     "execution_count": 6,
     "metadata": {},
     "output_type": "execute_result"
    },
    {
     "data": {
      "image/png": "[encoded data removed]",
      "text/plain": [
       "<Figure size 1080x360 with 2 Axes>"
      ]
     },
     "metadata": {
      "needs_background": "light"
     },
     "output_type": "display_data"
    }
   ],
   "source": [
    "# generate screen\n",
    "fig = plt.figure(figsize=(15,5))\n",
    "ax=[]\n",
    "ax.append(plt.subplot2grid((1,15), (0, 0), colspan=7))\n",
    "ax.append(plt.subplot2grid((1,15), (0, 8), colspan=7))\n",
    "plt.subplots_adjust(wspace=1,hspace=0.5)\n",
    "\n",
    "\n",
    "# set back ground\n",
    "rectangle=patches.Rectangle((1.2, -0.1), 0.6, 5,facecolor=\"orange\",alpha=0.2)\n",
    "ax[0].add_patch(rectangle)\n",
    "rectangle=patches.Rectangle((-2, -0.1), 1, 5,facecolor=\"orange\",alpha=0.2)\n",
    "ax[0].add_patch(rectangle)\n",
    "rectangle=patches.Rectangle((-3.5, -0.1), 1.5, 5,facecolor=\"green\",alpha=0.1)\n",
    "ax[0].add_patch(rectangle)\n",
    "rectangle=patches.Rectangle((-1, -0.1), 2.2, 5,facecolor=\"green\",alpha=0.1)\n",
    "ax[0].add_patch(rectangle)\n",
    "rectangle=patches.Rectangle((1.8, -0.1), 1.2, 5,facecolor=\"green\",alpha=0.1)\n",
    "ax[0].add_patch(rectangle)\n",
    "\n",
    "#ax[0].axhline(0.3,lw=1,color=\"black\",linestyle='--')\n",
    "\n",
    "rectangle=patches.Rectangle((1.2, -0.1), 0.6, 5,facecolor=\"orange\",alpha=0.2)\n",
    "ax[1].add_patch(rectangle)\n",
    "rectangle=patches.Rectangle((-2, -0.1), 1, 5,facecolor=\"orange\",alpha=0.2)\n",
    "ax[1].add_patch(rectangle)\n",
    "rectangle=patches.Rectangle((-3.5, -0.1), 1.5, 5,facecolor=\"green\",alpha=0.1)\n",
    "ax[1].add_patch(rectangle)\n",
    "rectangle=patches.Rectangle((-1, -0.1), 2.2, 5,facecolor=\"green\",alpha=0.1)\n",
    "ax[1].add_patch(rectangle)\n",
    "rectangle=patches.Rectangle((1.8, -0.1), 1.2, 5,facecolor=\"green\",alpha=0.1)\n",
    "ax[1].add_patch(rectangle)\n",
    "\n",
    "#ax[1].axhline(0.3,lw=1,color=\"black\",linestyle='--')\n",
    "\n",
    "\n",
    "# plot lines\n",
    "line1, = ax[0].plot(df1[\"x\"], df1['f(x)'],color = sns.xkcd_rgb[\"pale red\"],linestyle = '-',label = 'f(x)')\n",
    "line2, = ax[0].plot(df1[\"x\"], df1['knn'],color = sns.xkcd_rgb[\"denim blue\"],linestyle = '-',label = 'knn')\n",
    "line3, = ax[0].plot(df1[\"x\"], df1['wknn'],color = sns.xkcd_rgb[\"turquoise\"],linestyle = '-',label = 'wknn')\n",
    "line4, = ax[1].plot(df1[\"x\"], df2['f(x)'],color = sns.xkcd_rgb[\"pale red\"],linestyle = '-',label = 'f(x)')\n",
    "line5, = ax[1].plot(df1[\"x\"], df2['knn'],color = sns.xkcd_rgb[\"denim blue\"],linestyle = '-',label = 'knn')\n",
    "line6, = ax[1].plot(df1[\"x\"], df2['wknn'],color = sns.xkcd_rgb[\"turquoise\"],linestyle = '-',label = 'wknn')\n",
    "# set axis x\n",
    "ax[0].set_xlim([range_l,range_u])\n",
    "ax[1].set_xlim([range_l,range_u])\n",
    "\n",
    "# set axis y leaving margin\n",
    "interval_l,interval_u=df1[\"f(x)\"].to_numpy().min(),df1[\"f(x)\"].to_numpy().max()\n",
    "ax[0].set_ylim(interval_l-0.05,interval_u+0.35*(interval_u-interval_l))\n",
    "\n",
    "ax[1].set_ylim(interval_l-0.05,interval_u+0.35*(interval_u-interval_l))\n",
    "\n",
    "# set text\n",
    "ax[1].set_xlabel(\"x\",fontsize = 12)\n",
    "ax[0].set_xlabel(\"x\",fontsize = 12)\n",
    "ax[0].set_ylabel(\"Density\",fontsize = 12)\n",
    "ax[1].set_ylabel(\"Density\",fontsize = 12)\n",
    "\n",
    "\n",
    "\n",
    "ax[1].legend(handles = [line1,line2,line3],loc=\"upper left\")\n",
    "ax[0].legend(handles = [line1,line2,line3],loc=\"upper left\")\n",
    "\n",
    "plt.show()"
   ]
  },
  {
   "cell_type": "code",
   "execution_count": 3,
   "metadata": {},
   "outputs": [],
   "source": [
    "from scipy.stats import laplace\n",
    "from scipy.stats import uniform\n",
    "\n"
   ]
  },
  {
   "cell_type": "markdown",
   "metadata": {},
   "source": [
    "Generate some random data,following a mix distribution of Laplace and uniform distribution"
   ]
  },
  {
   "cell_type": "code",
   "execution_count": 23,
   "metadata": {},
   "outputs": [],
   "source": [
    "#define laplace distribution\n",
    "loc=np.zeros(1)\n",
    "scale=np.ones(1)*0.5\n",
    "laplace_dim=np.array(loc).ravel().shape[0]\n",
    "\n",
    "#defin uniform distribution\n",
    "low=np.array(np.ones(1)*2).ravel()\n",
    "upper=np.array(np.ones(1)*4).ravel()\n",
    "uniform_dim=len(low)\n",
    "\n",
    "assert laplace_dim==uniform_dim"
   ]
  },
  {
   "cell_type": "code",
   "execution_count": null,
   "metadata": {},
   "outputs": [],
   "source": [
    "#settings \n",
    "n_train=1000\n",
    "n_test=1000\n",
    "num_mix=2\n",
    "\n",
    "np.random.seed(3)\n",
    "\n",
    "df1 = pd.DataFrame(columns=[\"x\",\"f(x)\",\"knn\",\"wknn\",\"k\"])\n",
    "\n",
    "df2 = pd.DataFrame(columns=[\"x\",\"f(x)\",\"knn\",\"wknn\",\"k\"])\n",
    "\n",
    "prob_seq=[1/2,1/2]"
   ]
  },
  {
   "cell_type": "code",
   "execution_count": 28,
   "metadata": {},
   "outputs": [],
   "source": [
    "\n",
    "\n",
    "rd_idx=np.random.choice(num_mix,size=n_train,replace=True,p=prob_seq)\n",
    "X_train=[]\n",
    "\n",
    "#generate data from laplace_distribution\n",
    "num_laplace=np.sum(rd_idx==0)\n",
    "sample_laplace=np.random.laplace(loc=loc, scale=scale, size=(n_train, laplace_dim))\n",
    "X_train.append(sample_laplace)\n",
    "\n",
    "#generate data from uniform distribution\n",
    "num_uniform=np.sum(rd_idx==1)\n",
    "sample_uniform=np.random.rand(n_train,uniform_dim)*(upper-low)+low\n",
    "X_train.append(sample_uniform)\n",
    "\n",
    "X_train=np.concatenate(X_train,axis=0)\n",
    "np.random.shuffle(X_train)\n",
    "\n",
    "\n",
    "#caculate the probility density\n",
    "pdf_X_train=np.zeros(shape=X_train.shape[0])\n",
    "num_samples=X_train.shape[0]\n",
    "\n",
    "\n",
    "# laplace probility density\n",
    "laplace_prob=prob_seq[0]\n",
    "pdf_X_train += laplace_prob*np.prod(laplace.pdf(X_train, loc=loc, scale=scale) ,axis=1 )\n",
    "\n",
    "# uniform probility density\n",
    "uniform_prob=prob_seq[1]\n",
    "in_interval_low=np.array([(X_train[i]>=low).all() for i in range(len(X_train))])\n",
    "in_interval_up=np.array([(X_train[i]<=upper).all() for i in range(len(X_train))])\n",
    "pdf_X_train += uniform_prob*in_interval_low*in_interval_up/np.prod(upper-low)\n",
    "\n",
    "\n",
    "#genearate test data\n",
    "range_l,range_u=-3.5,3\n",
    "X_test=np.arange(range_l,range_u,0.01).reshape(-1,1)\n",
    "pdf_X_test=np.zeros(shape=X_test.shape[0])\n",
    "\n",
    "pdf_X_test += laplace_prob*np.prod(laplace.pdf(X_test, loc=loc, scale=scale) ,axis=1 )\n",
    "\n",
    "in_interval_low=np.array([(X_test[i]>=low).all() for i in range(len(X_test))])\n",
    "in_interval_up=np.array([(X_test[i]<=upper).all() for i in range(len(X_test))])\n",
    "\n",
    "pdf_X_test += uniform_prob*in_interval_low*in_interval_up/np.prod(upper-low)\n"
   ]
  },
  {
   "cell_type": "code",
   "execution_count": 25,
   "metadata": {},
   "outputs": [],
   "source": [
    "#first k\n",
    "#fit model\n",
    "k1=50\n",
    "modelKNN=KNN(k=k1)\n",
    "_=modelKNN.fit(X_train,method=\"KNN\")\n",
    "pdf_KNN=np.exp(modelKNN.predict(X_test))\n",
    "\n",
    "modelWKNN=KNN(k=k1)\n",
    "_=modelWKNN.fit(X_train,method=\"WKNN\")\n",
    "pdf_WKNN=np.exp(modelWKNN.predict(X_test))\n",
    "# change frame\n",
    "df1[\"x\"]=X_test.ravel()\n",
    "df1[\"f(x)\"]=pdf_X_test\n",
    "df1[\"knn\"]=pdf_KNN\n",
    "df1[\"wknn\"]=pdf_WKNN\n",
    "df1[\"k\"]=k1\n",
    "\n",
    "## second k\n",
    "# fit model \n",
    "k2=200\n",
    "modelKNN=KNN(k=k2)\n",
    "_=modelKNN.fit(X_train,method=\"KNN\")\n",
    "pdf_KNN=np.exp(modelKNN.predict(X_test))\n",
    "\n",
    "modelWKNN=KNN(k=k2)\n",
    "_=modelWKNN.fit(X_train,method=\"WKNN\")\n",
    "pdf_WKNN=np.exp(modelWKNN.predict(X_test))\n",
    "# change frame\n",
    "df2[\"x\"]=X_test.ravel()\n",
    "df2[\"f(x)\"]=pdf_X_test\n",
    "df2[\"knn\"]=pdf_KNN\n",
    "df2[\"wknn\"]=pdf_WKNN\n",
    "df2[\"k\"]=k2"
   ]
  },
  {
   "cell_type": "code",
   "execution_count": 26,
   "metadata": {},
   "outputs": [
    {
     "data": {
      "text/plain": [
       "<matplotlib.patches.Rectangle at 0x240fbe56970>"
      ]
     },
     "execution_count": 26,
     "metadata": {},
     "output_type": "execute_result"
    },
    {
     "data": {
      "text/plain": [
       "<matplotlib.patches.Rectangle at 0x240fbe63400>"
      ]
     },
     "execution_count": 26,
     "metadata": {},
     "output_type": "execute_result"
    },
    {
     "data": {
      "text/plain": [
       "<matplotlib.patches.Rectangle at 0x240fbe63490>"
      ]
     },
     "execution_count": 26,
     "metadata": {},
     "output_type": "execute_result"
    },
    {
     "data": {
      "text/plain": [
       "<matplotlib.patches.Rectangle at 0x240fbe638b0>"
      ]
     },
     "execution_count": 26,
     "metadata": {},
     "output_type": "execute_result"
    },
    {
     "data": {
      "text/plain": [
       "<matplotlib.patches.Rectangle at 0x240fbe63820>"
      ]
     },
     "execution_count": 26,
     "metadata": {},
     "output_type": "execute_result"
    },
    {
     "data": {
      "text/plain": [
       "<matplotlib.patches.Rectangle at 0x240fbe63a30>"
      ]
     },
     "execution_count": 26,
     "metadata": {},
     "output_type": "execute_result"
    },
    {
     "data": {
      "text/plain": [
       "<matplotlib.patches.Rectangle at 0x240fbe6c1f0>"
      ]
     },
     "execution_count": 26,
     "metadata": {},
     "output_type": "execute_result"
    },
    {
     "data": {
      "text/plain": [
       "<matplotlib.patches.Rectangle at 0x240fbe6c370>"
      ]
     },
     "execution_count": 26,
     "metadata": {},
     "output_type": "execute_result"
    },
    {
     "data": {
      "text/plain": [
       "<matplotlib.patches.Rectangle at 0x240fbe6c610>"
      ]
     },
     "execution_count": 26,
     "metadata": {},
     "output_type": "execute_result"
    },
    {
     "data": {
      "text/plain": [
       "<matplotlib.patches.Rectangle at 0x240fbe6ca00>"
      ]
     },
     "execution_count": 26,
     "metadata": {},
     "output_type": "execute_result"
    },
    {
     "data": {
      "text/plain": [
       "(-3.5, 3.0)"
      ]
     },
     "execution_count": 26,
     "metadata": {},
     "output_type": "execute_result"
    },
    {
     "data": {
      "text/plain": [
       "(-3.5, 3.0)"
      ]
     },
     "execution_count": 26,
     "metadata": {},
     "output_type": "execute_result"
    },
    {
     "data": {
      "text/plain": [
       "(-0.049544059017222745, 0.6748404206559272)"
      ]
     },
     "execution_count": 26,
     "metadata": {},
     "output_type": "execute_result"
    },
    {
     "data": {
      "text/plain": [
       "(-0.049544059017222745, 0.6748404206559272)"
      ]
     },
     "execution_count": 26,
     "metadata": {},
     "output_type": "execute_result"
    },
    {
     "data": {
      "text/plain": [
       "Text(0.5, 0, 'x')"
      ]
     },
     "execution_count": 26,
     "metadata": {},
     "output_type": "execute_result"
    },
    {
     "data": {
      "text/plain": [
       "Text(0.5, 0, 'x')"
      ]
     },
     "execution_count": 26,
     "metadata": {},
     "output_type": "execute_result"
    },
    {
     "data": {
      "text/plain": [
       "Text(0, 0.5, 'Density')"
      ]
     },
     "execution_count": 26,
     "metadata": {},
     "output_type": "execute_result"
    },
    {
     "data": {
      "text/plain": [
       "Text(0, 0.5, 'Density')"
      ]
     },
     "execution_count": 26,
     "metadata": {},
     "output_type": "execute_result"
    },
    {
     "data": {
      "text/plain": [
       "<matplotlib.legend.Legend at 0x240fbe6cfd0>"
      ]
     },
     "execution_count": 26,
     "metadata": {},
     "output_type": "execute_result"
    },
    {
     "data": {
      "text/plain": [
       "<matplotlib.legend.Legend at 0x240fbe73df0>"
      ]
     },
     "execution_count": 26,
     "metadata": {},
     "output_type": "execute_result"
    },
    {
     "data": {
      "image/png": "[encoded data removed]",
      "text/plain": [
       "<Figure size 1080x360 with 2 Axes>"
      ]
     },
     "metadata": {
      "needs_background": "light"
     },
     "output_type": "display_data"
    }
   ],
   "source": [
    "fig = plt.figure(figsize=(15,5))\n",
    "ax=[]\n",
    "ax.append(plt.subplot2grid((1,15), (0, 0), colspan=7))\n",
    "ax.append(plt.subplot2grid((1,15), (0, 8), colspan=7))\n",
    "plt.subplots_adjust(wspace=1,hspace=0.5)\n",
    "\n",
    "\n",
    "# set back ground\n",
    "rectangle=patches.Rectangle((1.2, -0.1), 0.6, 5,facecolor=\"orange\",alpha=0.2)\n",
    "ax[0].add_patch(rectangle)\n",
    "rectangle=patches.Rectangle((-2, -0.1), 1, 5,facecolor=\"orange\",alpha=0.2)\n",
    "ax[0].add_patch(rectangle)\n",
    "rectangle=patches.Rectangle((-3.5, -0.1), 1.5, 5,facecolor=\"green\",alpha=0.1)\n",
    "ax[0].add_patch(rectangle)\n",
    "rectangle=patches.Rectangle((-1, -0.1), 2.2, 5,facecolor=\"green\",alpha=0.1)\n",
    "ax[0].add_patch(rectangle)\n",
    "rectangle=patches.Rectangle((1.8, -0.1), 1.2, 5,facecolor=\"green\",alpha=0.1)\n",
    "ax[0].add_patch(rectangle)\n",
    "\n",
    "#ax[0].axhline(0.3,lw=1,color=\"black\",linestyle='--')\n",
    "\n",
    "rectangle=patches.Rectangle((1.2, -0.1), 0.6, 5,facecolor=\"orange\",alpha=0.2)\n",
    "ax[1].add_patch(rectangle)\n",
    "rectangle=patches.Rectangle((-2, -0.1), 1, 5,facecolor=\"orange\",alpha=0.2)\n",
    "ax[1].add_patch(rectangle)\n",
    "rectangle=patches.Rectangle((-3.5, -0.1), 1.5, 5,facecolor=\"green\",alpha=0.1)\n",
    "ax[1].add_patch(rectangle)\n",
    "rectangle=patches.Rectangle((-1, -0.1), 2.2, 5,facecolor=\"green\",alpha=0.1)\n",
    "ax[1].add_patch(rectangle)\n",
    "rectangle=patches.Rectangle((1.8, -0.1), 1.2, 5,facecolor=\"green\",alpha=0.1)\n",
    "ax[1].add_patch(rectangle)\n",
    "\n",
    "#ax[1].axhline(0.3,lw=1,color=\"black\",linestyle='--')\n",
    "\n",
    "\n",
    "# plot lines\n",
    "line1, = ax[0].plot(df1[\"x\"], df1['f(x)'],color = sns.xkcd_rgb[\"pale red\"],linestyle = '-',label = 'f(x)')\n",
    "line2, = ax[0].plot(df1[\"x\"], df1['knn'],color = sns.xkcd_rgb[\"denim blue\"],linestyle = '-',label = 'knn')\n",
    "line3, = ax[0].plot(df1[\"x\"], df1['wknn'],color = sns.xkcd_rgb[\"turquoise\"],linestyle = '-',label = 'wknn')\n",
    "line4, = ax[1].plot(df1[\"x\"], df2['f(x)'],color = sns.xkcd_rgb[\"pale red\"],linestyle = '-',label = 'f(x)')\n",
    "line5, = ax[1].plot(df1[\"x\"], df2['knn'],color = sns.xkcd_rgb[\"denim blue\"],linestyle = '-',label = 'knn')\n",
    "line6, = ax[1].plot(df1[\"x\"], df2['wknn'],color = sns.xkcd_rgb[\"turquoise\"],linestyle = '-',label = 'wknn')\n",
    "# set axis x\n",
    "ax[0].set_xlim([range_l,range_u])\n",
    "ax[1].set_xlim([range_l,range_u])\n",
    "\n",
    "# set axis y leaving margin\n",
    "interval_l,interval_u=df1[\"f(x)\"].to_numpy().min(),df1[\"f(x)\"].to_numpy().max()\n",
    "ax[0].set_ylim(interval_l-0.05,interval_u+0.35*(interval_u-interval_l))\n",
    "\n",
    "ax[1].set_ylim(interval_l-0.05,interval_u+0.35*(interval_u-interval_l))\n",
    "\n",
    "# set text\n",
    "ax[1].set_xlabel(\"x\",fontsize = 12)\n",
    "ax[0].set_xlabel(\"x\",fontsize = 12)\n",
    "ax[0].set_ylabel(\"Density\",fontsize = 12)\n",
    "ax[1].set_ylabel(\"Density\",fontsize = 12)\n",
    "\n",
    "\n",
    "\n",
    "ax[1].legend(handles = [line1,line2,line3],loc=\"upper left\")\n",
    "ax[0].legend(handles = [line1,line2,line3],loc=\"upper left\")\n",
    "\n",
    "plt.show()"
   ]
  },
  {
   "cell_type": "code",
   "execution_count": null,
   "metadata": {},
   "outputs": [],
   "source": []
  }
 ],
 "metadata": {
  "kernelspec": {
   "display_name": "Python 3",
   "language": "python",
   "name": "python3"
  },
  "language_info": {
   "codemirror_mode": {
    "name": "ipython",
    "version": 3
   },
   "file_extension": ".py",
   "mimetype": "text/x-python",
   "name": "python",
   "nbconvert_exporter": "python",
   "pygments_lexer": "ipython3",
   "version": "3.8.5"
  }
 },
 "nbformat": 4,
 "nbformat_minor": 4
}
