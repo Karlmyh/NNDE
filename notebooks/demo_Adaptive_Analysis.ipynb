{
 "cells": [
  {
   "cell_type": "code",
   "execution_count": 1,
   "metadata": {},
   "outputs": [],
   "source": [
    "from IPython.core.interactiveshell import InteractiveShell\n",
    "InteractiveShell.ast_node_interactivity = \"all\"\n",
    "from matplotlib import patches\n",
    "import matplotlib.pyplot as plt\n",
    "import seaborn as sns\n",
    "import pandas as pd\n",
    "from matplotlib.ticker import LinearLocator, FormatStrFormatter\n",
    "import matplotlib.ticker as mtick\n",
    "from AWNN import AWNN"
   ]
  },
  {
   "cell_type": "markdown",
   "metadata": {},
   "source": [
    "# demo"
   ]
  },
  {
   "cell_type": "code",
   "execution_count": 5,
   "metadata": {},
   "outputs": [],
   "source": [
    "from scipy.stats import multivariate_normal\n",
    "\n",
    "import numpy as np"
   ]
  },
  {
   "cell_type": "code",
   "execution_count": 7,
   "metadata": {},
   "outputs": [],
   "source": [
    "# produce the data frames for different C\n",
    "df1 = pd.DataFrame(columns=[\"x\",\"f(x)\",\"k(x)\",\"distribution\",\"C\",\"estimation\"])\n",
    "df2 = pd.DataFrame(columns=[\"x\",\"f(x)\",\"k(x)\",\"distribution\",\"C\",\"estimation\"])\n",
    "df3 = pd.DataFrame(columns=[\"x\",\"f(x)\",\"k(x)\",\"distribution\",\"C\",\"estimation\"])\n",
    "\n",
    "#setting s\n",
    "dim=1\n",
    "n_train=2000\n",
    "n_test=1000\n",
    "np.random.seed(4)"
   ]
  },
  {
   "cell_type": "markdown",
   "metadata": {},
   "source": [
    "Generate some random data, following multivariatenormal distribution"
   ]
  },
  {
   "cell_type": "code",
   "execution_count": 8,
   "metadata": {},
   "outputs": [],
   "source": [
    "means=[np.zeros(dim)+1.5,np.zeros(dim)-1.5]\n",
    "covs=[np.diag(np.ones(dim)*0.05),np.diag(np.ones(dim)*0.3)]\n",
    "\n",
    "prob_seq = [0.4,0.6]\n",
    "num_mix=2\n",
    "\n",
    "#sampling\n",
    "rd_idx=np.random.choice(num_mix,size=n_train,replace=True,p=prob_seq)\n",
    "sample_X=[]\n",
    "\n",
    "\n",
    "for i in range(num_mix):\n",
    "    num_i=np.sum(rd_idx==i)\n",
    "    sample_Xi=multivariate_normal.rvs(mean=means[i],cov=covs[i],size=n_train).reshape(-1,dim)\n",
    "    sample_X.append(sample_Xi)\n",
    "\n",
    "X_train=np.concatenate(sample_X,axis=0)\n",
    "np.random.shuffle(X_train)\n",
    "\n",
    "#caculate the density at given vector of point\n",
    "\n",
    "num_sample=X_train.shape[0]\n",
    "pdf_X_train=np.zeros(num_sample, dtype=np.float64) \n",
    "for i in range(num_mix):\n",
    "    prob=prob_seq[i]\n",
    "    density_i=multivariate_normal.pdf(X_train, mean=means[i], cov=covs[i])\n",
    "    pdf_X_train+=prob*density_i\n",
    "\n",
    "#generate test data\n",
    "range_l,range_u=-3.5,3\n",
    "X_test=np.arange(range_l,range_u,0.01).reshape(-1,1)\n",
    "num_samples=X_test.shape[0]\n",
    "pdf_X_test=np.zeros(num_samples,dtype=np.float64)\n",
    "for i in range(num_mix):\n",
    "    prob=prob_seq[i]\n",
    "    density_i=multivariate_normal.pdf(X_test, mean=means[i], cov=covs[i])\n",
    "    pdf_X_test+=prob*density_i"
   ]
  },
  {
   "cell_type": "code",
   "execution_count": 9,
   "metadata": {},
   "outputs": [],
   "source": [
    "# train with different C\n",
    "C=(2,1,0.5)"
   ]
  },
  {
   "cell_type": "code",
   "execution_count": 11,
   "metadata": {},
   "outputs": [],
   "source": [
    "## first C \n",
    "# fit model \n",
    "modelAWNN=AWNN(C=1/C[0],save_weights=True,cut_off=1)\n",
    "_=modelAWNN.fit(X_train)\n",
    "estimation=modelAWNN.predict(X_test)\n",
    "# change frame\n",
    "df1[\"x\"]=X_test.ravel()\n",
    "df1[\"f(x)\"]=pdf_X_test\n",
    "df1[\"k(x)\"]=(modelAWNN.alpha>0).sum(axis=1)\n",
    "df1[\"distribution\"]='MultiVariateNormal'\n",
    "df1[\"C\"]=C[0]\n",
    "df1[\"estimation\"]=np.exp(estimation)\n"
   ]
  },
  {
   "cell_type": "code",
   "execution_count": 12,
   "metadata": {},
   "outputs": [],
   "source": [
    "## second C \n",
    "# fit model \n",
    "modelAWNN=AWNN(C=1/C[1],save_weights=True,cut_off=1)\n",
    "_=modelAWNN.fit(X_train)\n",
    "estimation=modelAWNN.predict(X_test)\n",
    "# change frame\n",
    "df2[\"x\"]=X_test.ravel()\n",
    "df2[\"f(x)\"]=pdf_X_test\n",
    "df2[\"k(x)\"]=(modelAWNN.alpha>0).sum(axis=1)\n",
    "df2[\"distribution\"]='MultiVariateNormal'\n",
    "df2[\"C\"]=C[1]\n",
    "df2[\"estimation\"]=np.exp(estimation)"
   ]
  },
  {
   "cell_type": "code",
   "execution_count": 13,
   "metadata": {},
   "outputs": [],
   "source": [
    "## third C \n",
    "# fit model \n",
    "modelAWNN=AWNN(C=1/C[2],save_weights=True,cut_off=1)\n",
    "_=modelAWNN.fit(X_train)\n",
    "estimation=modelAWNN.predict(X_test)\n",
    "# change frame\n",
    "df3[\"x\"]=X_test.ravel()\n",
    "df3[\"f(x)\"]=pdf_X_test\n",
    "df3[\"k(x)\"]=(modelAWNN.alpha>0).sum(axis=1)\n",
    "df3[\"distribution\"]='MultiVariateNormal'\n",
    "df3[\"C\"]=C[2]\n",
    "df3[\"estimation\"]=np.exp(estimation)"
   ]
  },
  {
   "cell_type": "code",
   "execution_count": 15,
   "metadata": {},
   "outputs": [
    {
     "data": {
      "text/plain": [
       "(-3.5, 3.0)"
      ]
     },
     "execution_count": 15,
     "metadata": {},
     "output_type": "execute_result"
    },
    {
     "data": {
      "text/plain": [
       "(-3.5, 3.0)"
      ]
     },
     "execution_count": 15,
     "metadata": {},
     "output_type": "execute_result"
    },
    {
     "data": {
      "text/plain": [
       "<matplotlib.patches.Rectangle at 0x1c5dc92dd30>"
      ]
     },
     "execution_count": 15,
     "metadata": {},
     "output_type": "execute_result"
    },
    {
     "data": {
      "text/plain": [
       "<matplotlib.patches.Rectangle at 0x1c5dc973490>"
      ]
     },
     "execution_count": 15,
     "metadata": {},
     "output_type": "execute_result"
    },
    {
     "data": {
      "text/plain": [
       "<matplotlib.patches.Rectangle at 0x1c5dc973580>"
      ]
     },
     "execution_count": 15,
     "metadata": {},
     "output_type": "execute_result"
    },
    {
     "data": {
      "text/plain": [
       "<matplotlib.patches.Rectangle at 0x1c5dc973820>"
      ]
     },
     "execution_count": 15,
     "metadata": {},
     "output_type": "execute_result"
    },
    {
     "data": {
      "text/plain": [
       "<matplotlib.patches.Rectangle at 0x1c5dc973a60>"
      ]
     },
     "execution_count": 15,
     "metadata": {},
     "output_type": "execute_result"
    },
    {
     "data": {
      "text/plain": [
       "<matplotlib.patches.Rectangle at 0x1c5dc9738b0>"
      ]
     },
     "execution_count": 15,
     "metadata": {},
     "output_type": "execute_result"
    },
    {
     "data": {
      "text/plain": [
       "<matplotlib.patches.Rectangle at 0x1c5dc9770a0>"
      ]
     },
     "execution_count": 15,
     "metadata": {},
     "output_type": "execute_result"
    },
    {
     "data": {
      "text/plain": [
       "<matplotlib.patches.Rectangle at 0x1c5dc977220>"
      ]
     },
     "execution_count": 15,
     "metadata": {},
     "output_type": "execute_result"
    },
    {
     "data": {
      "text/plain": [
       "<matplotlib.patches.Rectangle at 0x1c5dc977520>"
      ]
     },
     "execution_count": 15,
     "metadata": {},
     "output_type": "execute_result"
    },
    {
     "data": {
      "text/plain": [
       "<matplotlib.patches.Rectangle at 0x1c5dc977820>"
      ]
     },
     "execution_count": 15,
     "metadata": {},
     "output_type": "execute_result"
    },
    {
     "data": {
      "text/plain": [
       "(-0.03568248883635309, 0.9634272031405825)"
      ]
     },
     "execution_count": 15,
     "metadata": {},
     "output_type": "execute_result"
    },
    {
     "data": {
      "text/plain": [
       "(-34.45, 855.45)"
      ]
     },
     "execution_count": 15,
     "metadata": {},
     "output_type": "execute_result"
    },
    {
     "data": {
      "text/plain": [
       "Text(0.5, 0, 'x')"
      ]
     },
     "execution_count": 15,
     "metadata": {},
     "output_type": "execute_result"
    },
    {
     "data": {
      "text/plain": [
       "Text(0.5, 0, 'x')"
      ]
     },
     "execution_count": 15,
     "metadata": {},
     "output_type": "execute_result"
    },
    {
     "data": {
      "text/plain": [
       "Text(0, 0.5, 'Density')"
      ]
     },
     "execution_count": 15,
     "metadata": {},
     "output_type": "execute_result"
    },
    {
     "data": {
      "text/plain": [
       "Text(0, 0.5, 'k(x)')"
      ]
     },
     "execution_count": 15,
     "metadata": {},
     "output_type": "execute_result"
    },
    {
     "data": {
      "text/plain": [
       "<matplotlib.legend.Legend at 0x1c5dc9a5160>"
      ]
     },
     "execution_count": 15,
     "metadata": {},
     "output_type": "execute_result"
    },
    {
     "data": {
      "text/plain": [
       "<matplotlib.legend.Legend at 0x1c5dc973dc0>"
      ]
     },
     "execution_count": 15,
     "metadata": {},
     "output_type": "execute_result"
    },
    {
     "data": {
      "image/png": "[encoded data removed]",
      "text/plain": [
       "<Figure size 1080x360 with 2 Axes>"
      ]
     },
     "metadata": {
      "needs_background": "light"
     },
     "output_type": "display_data"
    }
   ],
   "source": [
    "# generate screen\n",
    "fig = plt.figure(figsize=(15,5))\n",
    "ax=[]\n",
    "ax.append(plt.subplot2grid((1,15), (0, 0), colspan=7))\n",
    "ax.append(plt.subplot2grid((1,15), (0, 8), colspan=7))\n",
    "plt.subplots_adjust(wspace=1,hspace=0.5)\n",
    "\n",
    "\n",
    "# plot lines\n",
    "line0, = ax[0].plot(df1[\"x\"], df1['f(x)'],color = sns.xkcd_rgb[\"pale red\"],linestyle = '-',label = 'f(x)')\n",
    "line1, = ax[0].plot(df2[\"x\"], df2['estimation'],color = sns.xkcd_rgb[\"denim blue\"],linestyle = '-',label = 'AWNN')\n",
    "line2, = ax[1].plot(df1[\"x\"], df1['k(x)'],color = sns.xkcd_rgb[\"blue\"],linestyle = '-',linewidth=1.5,label = r'$\\lambda$={}'.format(C[0]))\n",
    "line3, = ax[1].plot(df2[\"x\"], df2['k(x)'],color = sns.xkcd_rgb[\"turquoise\"],linestyle = '-',linewidth=1.5,label = r'$\\lambda$={}'.format(C[1]))\n",
    "line4, = ax[1].plot(df3[\"x\"], df3['k(x)'],color = sns.xkcd_rgb[\"gold\"],linestyle = '-',linewidth=1.5,label = r'$\\lambda$={}'.format(C[2]))\n",
    "\n",
    "# set axis x\n",
    "ax[0].set_xlim([range_l,range_u])\n",
    "ax[1].set_xlim([range_l,range_u])\n",
    "\n",
    "# set back ground\n",
    "rectangle=patches.Rectangle((1.2, -0.1), 0.6, 5,facecolor=\"orange\",alpha=0.2)\n",
    "ax[0].add_patch(rectangle)\n",
    "rectangle=patches.Rectangle((-2, -0.1), 1, 5,facecolor=\"orange\",alpha=0.2)\n",
    "ax[0].add_patch(rectangle)\n",
    "rectangle=patches.Rectangle((-3.5, -0.1), 1.5, 5,facecolor=\"green\",alpha=0.1)\n",
    "ax[0].add_patch(rectangle)\n",
    "rectangle=patches.Rectangle((-1, -0.1), 2.2, 5,facecolor=\"green\",alpha=0.1)\n",
    "ax[0].add_patch(rectangle)\n",
    "rectangle=patches.Rectangle((1.8, -0.1), 1.2, 5,facecolor=\"green\",alpha=0.1)\n",
    "ax[0].add_patch(rectangle)\n",
    "\n",
    "rectangle=patches.Rectangle((1.2, -100), 0.6, 1000,facecolor=\"orange\",alpha=0.2)\n",
    "ax[1].add_patch(rectangle)\n",
    "rectangle=patches.Rectangle((-2, -100), 1, 1000,facecolor=\"orange\",alpha=0.2)\n",
    "ax[1].add_patch(rectangle)\n",
    "rectangle=patches.Rectangle((-3.5, -100), 1.5, 1000,facecolor=\"green\",alpha=0.1)\n",
    "ax[1].add_patch(rectangle)\n",
    "rectangle=patches.Rectangle((-1, -100), 2.2, 1000,facecolor=\"green\",alpha=0.1)\n",
    "ax[1].add_patch(rectangle)\n",
    "rectangle=patches.Rectangle((1.8, -100), 1.2, 1000,facecolor=\"green\",alpha=0.1)\n",
    "ax[1].add_patch(rectangle)\n",
    "\n",
    "# set axis y leaving margin\n",
    "interval_l,interval_u=df1[\"f(x)\"].to_numpy().min(),df1[\"f(x)\"].to_numpy().max()\n",
    "ax[0].set_ylim(interval_l-0.05*(interval_u-interval_l),interval_u+0.35*(interval_u-interval_l))\n",
    "interval_l,interval_u=df3[\"k(x)\"].to_numpy().min(),df1[\"k(x)\"].to_numpy().max()\n",
    "ax[1].set_ylim(interval_l-0.05*(interval_u-interval_l),interval_u+0.05*(interval_u-interval_l))\n",
    "\n",
    "# set text\n",
    "ax[1].set_xlabel(\"x\",fontsize = 12)\n",
    "ax[0].set_xlabel(\"x\",fontsize = 12)\n",
    "ax[0].set_ylabel(\"Density\",fontsize = 12)\n",
    "ax[1].set_ylabel(\"k(x)\",fontsize = 12)\n",
    "\n",
    "\n",
    "\n",
    "ax[1].legend(handles = [line2,line3,line4],loc=\"upper left\")\n",
    "ax[0].legend(handles = [line0,line1],loc=\"upper left\")"
   ]
  },
  {
   "cell_type": "code",
   "execution_count": null,
   "metadata": {},
   "outputs": [],
   "source": []
  }
 ],
 "metadata": {
  "kernelspec": {
   "display_name": "Python 3",
   "language": "python",
   "name": "python3"
  },
  "language_info": {
   "codemirror_mode": {
    "name": "ipython",
    "version": 3
   },
   "file_extension": ".py",
   "mimetype": "text/x-python",
   "name": "python",
   "nbconvert_exporter": "python",
   "pygments_lexer": "ipython3",
   "version": "3.8.5"
  }
 },
 "nbformat": 4,
 "nbformat_minor": 4
}
