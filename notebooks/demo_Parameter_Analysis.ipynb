{
 "cells": [
  {
   "cell_type": "code",
   "execution_count": 14,
   "metadata": {},
   "outputs": [],
   "source": [
    "from IPython.core.interactiveshell import InteractiveShell\n",
    "InteractiveShell.ast_node_interactivity = \"all\"\n",
    "from matplotlib import patches\n",
    "import matplotlib.pyplot as plt\n",
    "import seaborn as sns\n",
    "import pandas as pd\n",
    "from matplotlib.ticker import LinearLocator, FormatStrFormatter\n",
    "import matplotlib.ticker as mtick\n",
    "from AWNN import AWNN"
   ]
  },
  {
   "cell_type": "markdown",
   "metadata": {},
   "source": [
    "# demo"
   ]
  },
  {
   "cell_type": "code",
   "execution_count": 5,
   "metadata": {},
   "outputs": [],
   "source": [
    "# initialize data frame\n",
    "import numpy as np\n",
    "from scipy.stats import beta\n",
    "\n",
    "df = pd.DataFrame(columns=[\"C\",\"L2\",\"mae\",\"mse\",\"d\"])\n",
    "\n",
    "# setting and sampling\n",
    "dim=2 #dimension of data\n",
    "n_train=1000\n",
    "n_test=2000"
   ]
  },
  {
   "cell_type": "markdown",
   "metadata": {},
   "source": [
    "Generate some random data,following Beta distribution"
   ]
  },
  {
   "cell_type": "code",
   "execution_count": 10,
   "metadata": {},
   "outputs": [],
   "source": [
    "#beta distribution\n",
    "np.random.seed(1)\n",
    "\n",
    "#sampling \n",
    "a=np.ones(dim)*2\n",
    "b=np.ones(dim)*2\n",
    "X_train=np.random.beta(a=a,b=b,size=(n_train,dim))\n",
    "pdf_X_train=np.prod(beta.pdf(X_train,a=a,b=b),axis=1)\n",
    "\n",
    "X_test=np.random.beta(a=a,b=b,size=(n_train,dim))\n",
    "pdf_X_test=np.prod(beta.pdf(X_train,a=a,b=b),axis=1)"
   ]
  },
  {
   "cell_type": "code",
   "execution_count": null,
   "metadata": {},
   "outputs": [],
   "source": [
    "# metric function \n",
    "def mae(x,y):\n",
    "    return np.abs(x-y).mean()\n",
    "def mse(x,y):\n",
    "    return ((x-y)**2).mean()\n",
    "\n",
    "\n",
    "\n",
    "\n",
    "# range for parameter \n",
    "range_l,range_u=0.001,1.5\n",
    "\n",
    "for C in np.arange(range_l,range_u,0.1):\n",
    "    # training and estimate integral\n",
    "    modelAWNN=AWNN(C=C).fit(X_train)\n",
    "    L2_statistic=-modelAWNN.score(X_test)\n",
    "    estDensity=np.exp(modelAWNN.log_density)\n",
    "    df=df.append({\"C\":C,\"L2\":L2_statistic,\n",
    "                                  \"mse\":mse(estDensity,pdf_X_test),\n",
    "                                 \"mae\":mae(estDensity,pdf_X_test),\"d\":dim},ignore_index=True)"
   ]
  },
  {
   "cell_type": "code",
   "execution_count": 15,
   "metadata": {},
   "outputs": [
    {
     "data": {
      "text/plain": [
       "(0.001, 1.5)"
      ]
     },
     "execution_count": 15,
     "metadata": {},
     "output_type": "execute_result"
    },
    {
     "data": {
      "text/plain": [
       "(-1.4658659012554933, -1.2142607330534207)"
      ]
     },
     "execution_count": 15,
     "metadata": {},
     "output_type": "execute_result"
    },
    {
     "data": {
      "text/plain": [
       "(0.6042594180977229, 0.7035544346039644)"
      ]
     },
     "execution_count": 15,
     "metadata": {},
     "output_type": "execute_result"
    },
    {
     "data": {
      "text/plain": [
       "Text(0.5, 0, '$\\\\lambda$')"
      ]
     },
     "execution_count": 15,
     "metadata": {},
     "output_type": "execute_result"
    },
    {
     "data": {
      "text/plain": [
       "Text(0, 0.5, 'MISE')"
      ]
     },
     "execution_count": 15,
     "metadata": {},
     "output_type": "execute_result"
    },
    {
     "data": {
      "text/plain": [
       "Text(0, 0.5, 'MAE')"
      ]
     },
     "execution_count": 15,
     "metadata": {},
     "output_type": "execute_result"
    },
    {
     "data": {
      "text/plain": [
       "<matplotlib.legend.Legend at 0x1447bfaa6d0>"
      ]
     },
     "execution_count": 15,
     "metadata": {},
     "output_type": "execute_result"
    },
    {
     "data": {
      "image/png": "[encoded data removed]",
      "text/plain": [
       "<Figure size 432x288 with 2 Axes>"
      ]
     },
     "metadata": {
      "needs_background": "light"
     },
     "output_type": "display_data"
    }
   ],
   "source": [
    "# first line    \n",
    "fig, ax1 = plt.subplots()\n",
    "line1, = ax1.plot(df[\"C\"], df['L2'],color = sns.xkcd_rgb[\"pale red\"],linestyle = '-',label = 'MISE')\n",
    "p1 = ax1.scatter(df[\"C\"], df['L2'],color = sns.xkcd_rgb[\"pale red\"],marker = 'v',s = 30,label = 'MISE')\n",
    "# second line\n",
    "ax2 = ax1.twinx()\n",
    "line2, = ax2.plot(df[\"C\"], df['mae'],color = sns.xkcd_rgb[\"denim blue\"],linestyle = '-',label = 'MAE')\n",
    "p2 = ax2.scatter(df[\"C\"], df['mae'],color = sns.xkcd_rgb[\"denim blue\"],marker = 'o',s = 30,label = 'MAE')\n",
    "\n",
    "# axis setting\n",
    "ax1.set_xlim([range_l,range_u])\n",
    "interval_l,interval_u=df[\"L2\"].to_numpy().min(),df[\"L2\"].to_numpy().max()\n",
    "ax1.set_ylim(interval_l-0.05*(interval_u-interval_l),interval_u+0.05*(interval_u-interval_l))\n",
    "\n",
    "interval_l,interval_u=df[\"mae\"].to_numpy().min(),df[\"mae\"].to_numpy().max()\n",
    "ax2.set_ylim(interval_l-0.05*(interval_u-interval_l),interval_u+0.05*(interval_u-interval_l))\n",
    "\n",
    "ax1.set_xlabel(r'$\\lambda$',fontsize = 12)\n",
    "ax1.set_ylabel(\"MISE\",fontsize = 12)\n",
    "ax2.set_ylabel(\"MAE\",fontsize = 12)\n",
    "\n",
    "ax1.yaxis.set_major_locator(LinearLocator(3)) \n",
    "ax2.yaxis.set_major_locator(LinearLocator(5)) \n",
    "ax1.yaxis.set_major_formatter(mtick.FormatStrFormatter('%.3f'))\n",
    "ax2.yaxis.set_major_formatter(mtick.FormatStrFormatter('%.3f'))\n",
    "# set legend and grid\n",
    "plt.legend(handles = [p1,p2])\n",
    "plt.grid(axis='y')"
   ]
  },
  {
   "cell_type": "code",
   "execution_count": null,
   "metadata": {},
   "outputs": [],
   "source": []
  }
 ],
 "metadata": {
  "kernelspec": {
   "display_name": "Python 3",
   "language": "python",
   "name": "python3"
  },
  "language_info": {
   "codemirror_mode": {
    "name": "ipython",
    "version": 3
   },
   "file_extension": ".py",
   "mimetype": "text/x-python",
   "name": "python",
   "nbconvert_exporter": "python",
   "pygments_lexer": "ipython3",
   "version": "3.8.5"
  }
 },
 "nbformat": 4,
 "nbformat_minor": 4
}
