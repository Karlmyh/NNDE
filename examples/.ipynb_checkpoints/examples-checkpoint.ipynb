{
 "cells": [
  {
   "cell_type": "markdown",
   "id": "ed25d993",
   "metadata": {},
   "source": [
    "# Quick Start"
   ]
  },
  {
   "cell_type": "markdown",
   "id": "4dfd6342",
   "metadata": {},
   "source": [
    "The notebook contains basic usage examples of NNDE. Also, running the whole notebook produces the figures included in the paper. "
   ]
  },
  {
   "cell_type": "markdown",
   "id": "7a3c4fd1",
   "metadata": {},
   "source": [
    "## Installation"
   ]
  },
  {
   "cell_type": "code",
   "execution_count": null,
   "id": "69a803df",
   "metadata": {},
   "outputs": [],
   "source": [
    "try:\n",
    "    import NNDE\n",
    "except:\n",
    "    ! pip install -r requirements.txt\n",
    "    ! pip install git+https://github.com/Karlmyh/NNDE.git"
   ]
  },
  {
   "cell_type": "code",
   "execution_count": 1,
   "id": "c50b930b",
   "metadata": {},
   "outputs": [],
   "source": [
    "import numpy as np\n",
    "import matplotlib.pyplot as plt\n",
    "\n",
    "from IPython.core.interactiveshell import InteractiveShell\n",
    "InteractiveShell.ast_node_interactivity = \"all\""
   ]
  },
  {
   "cell_type": "code",
   "execution_count": null,
   "id": "b84ee874",
   "metadata": {},
   "outputs": [],
   "source": []
  },
  {
   "cell_type": "markdown",
   "id": "d9b6981f",
   "metadata": {},
   "source": [
    "## Sampling Tools"
   ]
  },
  {
   "cell_type": "code",
   "execution_count": null,
   "id": "b29c06f4",
   "metadata": {},
   "outputs": [],
   "source": [
    "###### generate samples with marginal density (Exp(0.5),Exp(0.5),Uniform(0,5))\n",
    "\n",
    "from NNDE import ExponentialDistribution, UniformDistribution, MarginalDistribution\n",
    "\n",
    "# setup\n",
    "dim=3\n",
    "density1 = ExponentialDistribution(lamda=0.5) \n",
    "density2 = UniformDistribution(low=0,upper=5) \n",
    "\n",
    "density_seq=[]\n",
    "for i in range(dim-1):\n",
    "    density_seq = density_seq+[density1]\n",
    "density_seq=density_seq+[density2]\n",
    "\n",
    "densitymarginal = MarginalDistribution(density_seq)\n",
    "\n",
    "\n",
    "# generate 10 samples and return their pdf\n",
    "samples,samples_pdf = densitymarginal.generate(10)\n",
    "samples"
   ]
  },
  {
   "cell_type": "code",
   "execution_count": null,
   "id": "ef043a78",
   "metadata": {},
   "outputs": [],
   "source": [
    "# evaluate pdf at given samples\n",
    "densitymarginal.density(samples)\n",
    "\n",
    "# compare with true pdf\n",
    "samples_pdf\n",
    "\n"
   ]
  },
  {
   "cell_type": "code",
   "execution_count": null,
   "id": "f2236ccf",
   "metadata": {},
   "outputs": [],
   "source": [
    "###### generate samples with mixture density 0.4*Normal(1.5,0.05)+0.6*Normal(-1.5,0.3)\n",
    "\n",
    "from NNDE import MultivariateNormalDistribution, MixedDistribution\n",
    "\n",
    "# setup\n",
    "dim=2\n",
    "density1 = MultivariateNormalDistribution(mean = np.zeros(dim)+1.5, cov = np.diag(np.ones(dim)*0.05)) \n",
    "density2 = MultivariateNormalDistribution(mean = np.zeros(dim)-1.5, cov = np.diag(np.ones(dim)*0.3)) \n",
    "density_seq = [density1, density2]\n",
    "prob_seq = [0.4, 0.6]\n",
    "densitymix = MixedDistribution(density_seq, prob_seq)\n",
    "\n",
    "# generate 10 samples and return their pdf\n",
    "samples, samples_pdf = densitymix.generate(10)\n",
    "samples"
   ]
  },
  {
   "cell_type": "code",
   "execution_count": null,
   "id": "f51cca0d",
   "metadata": {},
   "outputs": [],
   "source": [
    "# evaluate pdf at given samples\n",
    "densitymix.density(samples)\n",
    "\n",
    "# compare with true pdf\n",
    "samples_pdf\n",
    "\n"
   ]
  },
  {
   "cell_type": "markdown",
   "id": "02ae924c",
   "metadata": {},
   "source": [
    "## Adaptive KD Tree"
   ]
  },
  {
   "cell_type": "markdown",
   "id": "cc5f901b",
   "metadata": {},
   "source": [
    "The Adaptive KD Tree is able to select largest k such that $R_k^{\\beta}*k<C$ for given $\\beta$ and $C$."
   ]
  },
  {
   "cell_type": "code",
   "execution_count": null,
   "id": "4852e2c2",
   "metadata": {},
   "outputs": [],
   "source": [
    "###### normal KDTree query as in sklearn\n",
    "\n",
    "from NNDE import KDTree as AKDTree\n",
    "X_train, _=densitymix.generate(1000)\n",
    "X_test, _=densitymix.generate(4)\n",
    "\n",
    "\n",
    "tree = AKDTree(X_train, leaf_size=2)              \n",
    "dist, ind = tree.query(X_test, k=3)  \n",
    "\n",
    "dist\n",
    "ind"
   ]
  },
  {
   "cell_type": "code",
   "execution_count": null,
   "id": "429583a1",
   "metadata": {},
   "outputs": [],
   "source": [
    "###### adaptive KDTree query \n",
    "    \n",
    "dist, k = tree.adaptive_query(X_test, C=1, beta=1)  \n",
    "\n",
    "# dist**beta * k should be close to but smaller than C=0.1 for all entries\n",
    "dist*k"
   ]
  },
  {
   "cell_type": "markdown",
   "id": "a70a6cd9",
   "metadata": {},
   "source": [
    "## NN Density Estimators"
   ]
  },
  {
   "cell_type": "code",
   "execution_count": null,
   "id": "45b6ca35",
   "metadata": {},
   "outputs": [],
   "source": [
    "###### using AWNN to estimate density\n",
    "\n",
    "from NNDE import AWNN\n",
    "\n",
    "# generate samples\n",
    "X_train, pdf_X_train =densitymix.generate(1000)\n",
    "X_test, pdf_X_test =densitymix.generate(1000)\n",
    "\n",
    "# choose parameter C=0.1\n",
    "model_AWNN=AWNN(C=.1).fit(X_train)\n",
    "# output is log scaled\n",
    "est_AWNN=np.exp(model_AWNN.predict(X_test))\n",
    "# compute the mean absolute error\n",
    "np.abs(est_AWNN-pdf_X_test).mean()\n"
   ]
  },
  {
   "cell_type": "code",
   "execution_count": null,
   "id": "2ffe46bc",
   "metadata": {},
   "outputs": [],
   "source": [
    "###### using KNN to estimate density with k chosen by cross validation with respect to MISE criterion\n",
    "\n",
    "from NNDE import KNN\n",
    "from sklearn.model_selection import GridSearchCV\n",
    "\n",
    "# generate samples\n",
    "X_train, pdf_X_train =densitymix.generate(1000)\n",
    "X_test, pdf_X_test =densitymix.generate(1000)\n",
    "\n",
    "# select parameter grid\n",
    "parameters={\"k\":[int(i*1000) for i in [0.01,0.02,0.05,0.1,0.2,0.5]]}\n",
    "# use all available cpu, use 10 fold cross validation\n",
    "cv_model_KNN=GridSearchCV(estimator=KNN(),param_grid=parameters,n_jobs=-1,cv=10)\n",
    "_=cv_model_KNN.fit(X_train)\n",
    "model_KNN=cv_model_KNN.best_estimator_\n",
    "    \n",
    "# output is log scaled\n",
    "est_KNN=np.exp(model_KNN.predict(X_test))\n",
    "# compute the mean absolute error\n",
    "np.abs(est_KNN-pdf_X_test).mean()\n"
   ]
  },
  {
   "cell_type": "markdown",
   "id": "1c0aab58",
   "metadata": {},
   "source": [
    "## Visualization"
   ]
  },
  {
   "cell_type": "code",
   "execution_count": null,
   "id": "b4e83f57",
   "metadata": {},
   "outputs": [],
   "source": [
    "###### 3d prediction surface using WKNN\n",
    "\n",
    "from NNDE import contour3d\n",
    "from sklearn.model_selection import GridSearchCV\n",
    "\n",
    "# generate samples\n",
    "dim=2\n",
    "density1 = MultivariateNormalDistribution(mean = np.zeros(dim)+1.5, cov = np.diag(np.ones(dim)*0.4)) \n",
    "density2 = MultivariateNormalDistribution(mean = np.zeros(dim)-1.5, cov = np.diag(np.ones(dim)*0.7)) \n",
    "density_seq = [density1, density2]\n",
    "prob_seq = [0.4, 0.6]\n",
    "densitymix = MixedDistribution(density_seq, prob_seq)\n",
    "X_train, pdf_X_train =densitymix.generate(1000)\n",
    "\n",
    "model_plot=contour3d(X_train,method=\"WKNN\",k=100)\n",
    "model_plot.estimation()\n",
    "fig=model_plot.make_plot()\n"
   ]
  },
  {
   "cell_type": "code",
   "execution_count": null,
   "id": "424f43db",
   "metadata": {},
   "outputs": [],
   "source": [
    "###### 2d prediction surface using BKNN\n",
    "\n",
    "from NNDE import contour2d\n",
    "from sklearn.model_selection import GridSearchCV\n",
    "\n",
    "# generate samples\n",
    "X_train, pdf_X_train =densitymix.generate(1000)\n",
    "\n",
    "model_plot=contour2d(X_train,method=\"BKNN\",C=10)\n",
    "model_plot.estimation()\n",
    "fig=model_plot.make_plot()\n"
   ]
  },
  {
   "cell_type": "code",
   "execution_count": null,
   "id": "48f3d941",
   "metadata": {},
   "outputs": [],
   "source": [
    "###### 1d prediction line plot using TKNN\n",
    "\n",
    "from NNDE import lineplot\n",
    "from sklearn.model_selection import GridSearchCV\n",
    "\n",
    "# generate samples\n",
    "dim=1\n",
    "density1 = MultivariateNormalDistribution(mean = np.zeros(dim)+1.5, cov = np.diag(np.ones(dim)*0.4)) \n",
    "density2 = MultivariateNormalDistribution(mean = np.zeros(dim)-1.5, cov = np.diag(np.ones(dim)*0.7)) \n",
    "density_seq = [density1, density2]\n",
    "prob_seq = [0.4, 0.6]\n",
    "densitymix = MixedDistribution(density_seq, prob_seq)\n",
    "X_train, pdf_X_train =densitymix.generate(1000)\n",
    "\n",
    "\n",
    "\n",
    "model_plot=lineplot(X_train,method_seq=[\"TKNN\"],true_density_obj=densitymix,kargs_seq=[{\"k\":150}])\n",
    "fig=model_plot.plot()\n",
    "\n"
   ]
  },
  {
   "cell_type": "code",
   "execution_count": null,
   "id": "1c25e326",
   "metadata": {},
   "outputs": [],
   "source": [
    "###### high dimensional sliced prediction line plot using AWNN\n",
    "###### slicing is done\n",
    "\n",
    "\n",
    "# generate samples\n",
    "dim=4\n",
    "density1 = MultivariateNormalDistribution(mean = np.zeros(dim)+1.5, cov = np.diag(np.ones(dim)*0.4)) \n",
    "density2 = MultivariateNormalDistribution(mean = np.zeros(dim)-1.5, cov = np.diag(np.ones(dim)*0.7)) \n",
    "density_seq = [density1, density2]\n",
    "prob_seq = [0.4, 0.6]\n",
    "densitymix = MixedDistribution(density_seq, prob_seq)\n",
    "X_train, pdf_X_train =densitymix.generate(1000)\n",
    "X_train, pdf_X_train =densitymix.generate(1000)\n",
    "\n",
    "model_plot=lineplot(X_train,method_seq=[\"AWNN\"],true_density_obj=densitymix,kargs_seq=[{\"C\":0.5}])\n",
    "fig=model_plot.plot()\n",
    "\n"
   ]
  },
  {
   "cell_type": "code",
   "execution_count": null,
   "id": "5b2db295",
   "metadata": {},
   "outputs": [],
   "source": [
    "###### plot in the paper \n",
    "\n",
    "# generate samples\n",
    "dim=1\n",
    "np.random.seed(666)\n",
    "density1 = MultivariateNormalDistribution(mean = np.zeros(dim)+1.5, cov = np.diag(np.ones(dim)*0.4)) \n",
    "density2 = MultivariateNormalDistribution(mean = np.zeros(dim)-1.5, cov = np.diag(np.ones(dim)*0.7)) \n",
    "density_seq = [density1, density2]\n",
    "prob_seq = [0.4, 0.6]\n",
    "densitymix = MixedDistribution(density_seq, prob_seq)\n",
    "X_train, pdf_X_train =densitymix.generate(1000)\n",
    "\n",
    "\n",
    "kargs_seq= [{\"k\":100},{\"k\":100},{\"k\":100} ]\n",
    "model_plot=lineplot(X_train,method_seq=[\"KNN\", \"WKNN\", \"TKNN\"],true_density_obj=densitymix,kargs_seq=kargs_seq)\n",
    "fig=model_plot.plot()\n",
    "fig.savefig(\"../paper/example_1.pdf\",bbox_inches=\"tight\",dpi=600)\n",
    "\n",
    "kargs_seq= [{\"C\":0.9},{\"C\":1},{\"C\":1} ]\n",
    "model_plot=lineplot(X_train,method_seq=[\"AKNN\", \"BKNN\", \"AWNN\"],true_density_obj=densitymix,kargs_seq=kargs_seq)\n",
    "fig=model_plot.plot()\n",
    "fig.savefig(\"../paper/example_2.pdf\",bbox_inches=\"tight\",dpi=600)\n",
    "\n"
   ]
  },
  {
   "cell_type": "code",
   "execution_count": null,
   "id": "245905cd",
   "metadata": {},
   "outputs": [],
   "source": []
  },
  {
   "cell_type": "code",
   "execution_count": null,
   "id": "348c5f34",
   "metadata": {},
   "outputs": [],
   "source": []
  },
  {
   "cell_type": "code",
   "execution_count": null,
   "id": "b88a6959",
   "metadata": {},
   "outputs": [],
   "source": []
  }
 ],
 "metadata": {
  "kernelspec": {
   "display_name": "Python 3 (ipykernel)",
   "language": "python",
   "name": "python3"
  },
  "language_info": {
   "codemirror_mode": {
    "name": "ipython",
    "version": 3
   },
   "file_extension": ".py",
   "mimetype": "text/x-python",
   "name": "python",
   "nbconvert_exporter": "python",
   "pygments_lexer": "ipython3",
   "version": "3.8.2"
  }
 },
 "nbformat": 4,
 "nbformat_minor": 5
}
